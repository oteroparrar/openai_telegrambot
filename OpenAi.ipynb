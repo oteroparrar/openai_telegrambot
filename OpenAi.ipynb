{
  "nbformat": 4,
  "nbformat_minor": 0,
  "metadata": {
    "colab": {
      "provenance": [],
      "authorship_tag": "ABX9TyOi7YJq23inMCgKHd41wGN+",
      "include_colab_link": true
    },
    "kernelspec": {
      "name": "python3",
      "display_name": "Python 3"
    },
    "language_info": {
      "name": "python"
    }
  },
  "cells": [
    {
      "cell_type": "markdown",
      "metadata": {
        "id": "view-in-github",
        "colab_type": "text"
      },
      "source": [
        "<a href=\"https://colab.research.google.com/github/oteroparrar/openai_telegrambot/blob/main/OpenAi.ipynb\" target=\"_parent\"><img src=\"https://colab.research.google.com/assets/colab-badge.svg\" alt=\"Open In Colab\"/></a>"
      ]
    },
    {
      "cell_type": "markdown",
      "source": [
        "Debe ejecutar este primer bloque primero. Tenga a mano su API de OpenAi y su Token de Telegram. Copielo y peguelo en las casillas de colab, pueden ir todos en la misma casilla, menos el segundo bloque que esta independiente al final."
      ],
      "metadata": {
        "id": "VToys4Ryxgvv"
      }
    },
    {
      "cell_type": "code",
      "execution_count": null,
      "metadata": {
        "id": "w1G4g5xEwXbk"
      },
      "outputs": [],
      "source": [
        "!sudo apt install python3 python3-pip git\n",
        "!git clone https://github.com/oteroparrar/telegram_colab.git\n",
        "!pip install openai telebot python-decouple\n",
        "!python3  /content/telegram_colab/init.py\n"
      ]
    },
    {
      "cell_type": "markdown",
      "source": [
        "Luego ejecutamos este y vas para Telegram a probarlo"
      ],
      "metadata": {
        "id": "FnM8CX70xyWh"
      }
    },
    {
      "cell_type": "code",
      "source": [
        "!python3 /content/telegram_colab/main.py"
      ],
      "metadata": {
        "colab": {
          "base_uri": "https://localhost:8080/"
        },
        "id": "Lry_U4RDxA7f",
        "outputId": "75972c57-6431-44a3-a101-b9324f3d5973"
      },
      "execution_count": 2,
      "outputs": [
        {
          "output_type": "stream",
          "name": "stdout",
          "text": [
            "2023-03-13 21:10:58,548 (__init__.py:966 MainThread) ERROR - TeleBot: \"Infinity polling: polling exited\"\n",
            "2023-03-13 21:10:58,549 (__init__.py:968 MainThread) ERROR - TeleBot: \"Break infinity polling\"\n"
          ]
        }
      ]
    }
  ]
}